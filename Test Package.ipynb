{
 "cells": [
  {
   "cell_type": "code",
   "execution_count": 1,
   "id": "2f4320b3",
   "metadata": {},
   "outputs": [
    {
     "name": "stdout",
     "output_type": "stream",
     "text": [
      "\n",
      "| Name    | Age   | Country   | Data      | \n",
      "| ------- | ----- | --------- | --------- | \n",
      "| John    | 28    | USA       | USA       | \n",
      "| Emily   | 32    | Canada    | Canada    | \n",
      "| Tom     | 25    | UK        | UK        | \n",
      "| JC      | 2     | DE        | 3434243   | \n",
      "\n",
      "\n"
     ]
    }
   ],
   "source": [
    "from tablepy_lib import markdown\n",
    "import pandas as pd\n",
    "\n",
    "data = {\n",
    "    \"Name\": [\"John\", \"Emily\", \"Tom\", \"JC\"],\n",
    "    \"Age\": [28, 32, 25, 2],\n",
    "    \"Country\": [\"USA\", \"Canada\", \"UK\", \"DE\"],\n",
    "    \"Data\": [\"USA\", \"Canada\", \"UK\", \"3434243\"]\n",
    "}\n",
    "\n",
    "data_frame = pd.DataFrame(data)\n",
    "table = markdown(data_frame)\n",
    "print(table)"
   ]
  },
  {
   "cell_type": "code",
   "execution_count": 2,
   "id": "97108364",
   "metadata": {},
   "outputs": [
    {
     "data": {
      "text/plain": [
       "['ConsoleFormatter',\n",
       " '__builtins__',\n",
       " '__cached__',\n",
       " '__doc__',\n",
       " '__file__',\n",
       " '__loader__',\n",
       " '__name__',\n",
       " '__package__',\n",
       " '__path__',\n",
       " '__spec__',\n",
       " 'consoleFormatter',\n",
       " 'formatter',\n",
       " 'markdown',\n",
       " 'sql_insert']"
      ]
     },
     "execution_count": 2,
     "metadata": {},
     "output_type": "execute_result"
    }
   ],
   "source": [
    "import tablepy_lib\n",
    "dir(tablepy_lib)"
   ]
  },
  {
   "cell_type": "code",
   "execution_count": 3,
   "id": "398fbd8c",
   "metadata": {},
   "outputs": [
    {
     "name": "stdout",
     "output_type": "stream",
     "text": [
      "INSERT INTO dd (Name, Age, Country, Data) VALUES ('John', 28, 'USA', 'USA');\n",
      "INSERT INTO dd (Name, Age, Country, Data) VALUES ('Emily', 32, 'Canada', 'Canada');\n",
      "INSERT INTO dd (Name, Age, Country, Data) VALUES ('Tom', 25, 'UK', 'UK');\n",
      "INSERT INTO dd (Name, Age, Country, Data) VALUES ('JC', 2, 'DE', 3434243);\n",
      "\n"
     ]
    }
   ],
   "source": [
    "from tablepy_lib import sql_insert\n",
    "import pandas as pd\n",
    "\n",
    "data = {\n",
    "    \"Name\": [\"John\", \"Emily\", \"Tom\", \"JC\"],\n",
    "    \"Age\": [28, 32, 25, 2],\n",
    "    \"Country\": [\"USA\", \"Canada\", \"UK\", \"DE\"],\n",
    "    \"Data\": [\"USA\", \"Canada\", \"UK\", \"3434243\"]\n",
    "}\n",
    "\n",
    "data_frame = pd.DataFrame(data)\n",
    "table = sql_insert(data_frame, 'dd')\n",
    "print(table)"
   ]
  },
  {
   "cell_type": "code",
   "execution_count": null,
   "id": "d367475a",
   "metadata": {},
   "outputs": [],
   "source": []
  }
 ],
 "metadata": {
  "kernelspec": {
   "display_name": "Python 3 (ipykernel)",
   "language": "python",
   "name": "python3"
  },
  "language_info": {
   "codemirror_mode": {
    "name": "ipython",
    "version": 3
   },
   "file_extension": ".py",
   "mimetype": "text/x-python",
   "name": "python",
   "nbconvert_exporter": "python",
   "pygments_lexer": "ipython3",
   "version": "3.9.7"
  }
 },
 "nbformat": 4,
 "nbformat_minor": 5
}
